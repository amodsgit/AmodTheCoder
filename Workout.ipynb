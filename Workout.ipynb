{
  "nbformat": 4,
  "nbformat_minor": 0,
  "metadata": {
    "colab": {
      "provenance": [],
      "mount_file_id": "1k9PMiorclfZI5QaIwUnHCT1f7QNSOboJ",
      "authorship_tag": "ABX9TyPabL+t4YVmpLdcEfECFvIm",
      "include_colab_link": true
    },
    "kernelspec": {
      "name": "python3",
      "display_name": "Python 3"
    },
    "language_info": {
      "name": "python"
    }
  },
  "cells": [
    {
      "cell_type": "markdown",
      "metadata": {
        "id": "view-in-github",
        "colab_type": "text"
      },
      "source": [
        "<a href=\"https://colab.research.google.com/github/amodsgit/AmodTheCoder/blob/main/Workout.ipynb\" target=\"_parent\"><img src=\"https://colab.research.google.com/assets/colab-badge.svg\" alt=\"Open In Colab\"/></a>"
      ]
    },
    {
      "cell_type": "code",
      "execution_count": 1,
      "metadata": {
        "colab": {
          "base_uri": "https://localhost:8080/"
        },
        "id": "57gJWrA_cfYP",
        "outputId": "6f49152d-5412-4d8b-f406-93ff38613a74"
      },
      "outputs": [
        {
          "output_type": "stream",
          "name": "stdout",
          "text": [
            "                         Timestamp  Age Your Gender Your Height   Your Weight  \\\n",
            "0  2023/06/23 10:00:49 PM GMT+5:30   23        Male          NaN           70   \n",
            "1  2023/06/24 10:09:36 PM GMT+5:30   24      Female          5.4           60   \n",
            "\n",
            "  What is your job type (Desk Job / Student / Athlete)  \\\n",
            "0                                            Student     \n",
            "1                                            Student     \n",
            "\n",
            "   How many days a week do you like to exercise? (0-7)  \\\n",
            "0                                                  2     \n",
            "1                                                  3     \n",
            "\n",
            "   What is your preferred duration in minutes  \\\n",
            "0                                          60   \n",
            "1                                          10   \n",
            "\n",
            "  What are your fitness goals (Weight loss / Weight gain / Building muscle mass / Improving cardiovascular health / Increasing stamina/ endurance / Improving mental health)  \\\n",
            "0                                        Weight gain                                                                                                                           \n",
            "1                            Improving mental health                                                                                                                           \n",
            "\n",
            "  Do you prefer Indoor or Outdoor workouts?   \\\n",
            "0                                     Indoor   \n",
            "1                                    Outdoor   \n",
            "\n",
            "  What type of workout do you prefer? (Body weight workouts (Eg: Push-ups, Sit-ups, Planks, Squats etc.) / Gym workouts (Eg: Bench press, Deadlifts, Treadmill exercises, Leg press etc./ No preference   \\\n",
            "0                               Body weight workouts                                                                                                                                                       \n",
            "1  Gym workouts (Eg: Bench press, Deadlifts, Trea...                                                                                                                                                       \n",
            "\n",
            "  Do you have any existing injuries?  \\\n",
            "0                                 No   \n",
            "1                                 No   \n",
            "\n",
            "  If yes, specify the injuries from the provided list (list: Lower Back/ Pain/Injury / Shoulder Injury / Knee Injury / Wrist Injury / Ankle Injury / Hip Injury)  \\\n",
            "0                                                NaN                                                                                                               \n",
            "1                                                NaN                                                                                                               \n",
            "\n",
            "  Do you have any other health conditions that we should know about? If yes, mention those. Eg: asthma, Wheezing  \\\n",
            "0                                                NaN                                                               \n",
            "1                                                NaN                                                               \n",
            "\n",
            "  Recommended Exercises ()  \n",
            "0             B1,B4,B8,B14  \n",
            "1             G7,G9,G13,G4  \n"
          ]
        }
      ],
      "source": [
        "import pandas as pd\n",
        "\n",
        "# Load the CSV file\n",
        "data = pd.read_csv('/content/drive/MyDrive/fitness_survey.csv')\n",
        "\n",
        "# Print the first few rows of the data\n",
        "print(data.head(2))\n"
      ]
    },
    {
      "cell_type": "code",
      "source": [
        "# Create \"Injury Status\" column\n",
        "data['Injury Status'] = data['Do you have any existing injuries?'].map({'No': 0, 'Yes': 1})\n",
        "\n",
        "# Fill NaNs in the \"If yes, specify the injuries from the provided list\" column\n",
        "data['If yes, specify the injuries from the provided list (list: Lower Back/ Pain/Injury / Shoulder Injury / Knee Injury / Wrist Injury / Ankle Injury / Hip Injury)'] = data['If yes, specify the injuries from the provided list (list: Lower Back/ Pain/Injury / Shoulder Injury / Knee Injury / Wrist Injury / Ankle Injury / Hip Injury)'].fillna('No injury')\n",
        "\n",
        "\n",
        "data = data.drop(columns=['Do you have any existing injuries?'])\n"
      ],
      "metadata": {
        "id": "9mJhMbfzKDku"
      },
      "execution_count": null,
      "outputs": []
    },
    {
      "cell_type": "code",
      "source": [
        "# Drop unnecessary columns\n",
        "data = data.drop(columns=['Timestamp', 'Your Height ', 'Do you have any other health conditions that we should know about? If yes, mention those. Eg: asthma, Wheezing'])\n"
      ],
      "metadata": {
        "id": "3vQD3HzVKals"
      },
      "execution_count": null,
      "outputs": []
    },
    {
      "cell_type": "code",
      "source": [
        "print(data.head(2))"
      ],
      "metadata": {
        "colab": {
          "base_uri": "https://localhost:8080/"
        },
        "id": "hfGNNT6QLDtt",
        "outputId": "ed9347cc-d6cf-4fae-fe1f-ffadc2da5743"
      },
      "execution_count": null,
      "outputs": [
        {
          "output_type": "stream",
          "name": "stdout",
          "text": [
            "   Age Your Gender  Your Weight  \\\n",
            "0   23        Male           70   \n",
            "1   24      Female           60   \n",
            "\n",
            "  What is your job type (Desk Job / Student / Athlete)  \\\n",
            "0                                            Student     \n",
            "1                                            Student     \n",
            "\n",
            "   How many days a week do you like to exercise? (0-7)  \\\n",
            "0                                                  2     \n",
            "1                                                  3     \n",
            "\n",
            "   What is your preferred duration in minutes  \\\n",
            "0                                          60   \n",
            "1                                          10   \n",
            "\n",
            "  What are your fitness goals (Weight loss / Weight gain / Building muscle mass / Improving cardiovascular health / Increasing stamina/ endurance / Improving mental health)  \\\n",
            "0                                        Weight gain                                                                                                                           \n",
            "1                            Improving mental health                                                                                                                           \n",
            "\n",
            "  Do you prefer Indoor or Outdoor workouts?   \\\n",
            "0                                     Indoor   \n",
            "1                                    Outdoor   \n",
            "\n",
            "  What type of workout do you prefer? (Body weight workouts (Eg: Push-ups, Sit-ups, Planks, Squats etc.) / Gym workouts (Eg: Bench press, Deadlifts, Treadmill exercises, Leg press etc./ No preference   \\\n",
            "0                               Body weight workouts                                                                                                                                                       \n",
            "1  Gym workouts (Eg: Bench press, Deadlifts, Trea...                                                                                                                                                       \n",
            "\n",
            "  If yes, specify the injuries from the provided list (list: Lower Back/ Pain/Injury / Shoulder Injury / Knee Injury / Wrist Injury / Ankle Injury / Hip Injury)  \\\n",
            "0                                          No injury                                                                                                               \n",
            "1                                          No injury                                                                                                               \n",
            "\n",
            "  Recommended Exercises ()  Injury Status  \n",
            "0             B1,B4,B8,B14              0  \n",
            "1             G7,G9,G13,G4              0  \n"
          ]
        }
      ]
    },
    {
      "cell_type": "code",
      "source": [
        "from sklearn.preprocessing import MultiLabelBinarizer\n",
        "# Fill NaNs in the 'Recommended Exercises ()' column with 'None'\n",
        "data['Recommended Exercises ()'] = data['Recommended Exercises ()'].fillna('None')\n",
        "\n",
        "# Now continue with splitting and binarization\n",
        "data['Recommended Exercises ()'] = data['Recommended Exercises ()'].str.split(',')\n",
        "\n",
        "# Initialize MultiLabelBinarizer\n",
        "mlb = MultiLabelBinarizer()\n",
        "\n",
        "# Transform the 'Recommended Exercises ()' column\n",
        "exercises = mlb.fit_transform(data.pop('Recommended Exercises ()'))\n",
        "\n",
        "# Convert the transformed exercises data into a DataFrame and add it to the original data\n",
        "data = data.join(pd.DataFrame(exercises, columns=mlb.classes_))\n",
        "\n"
      ],
      "metadata": {
        "id": "nTnpe0RSLIi3"
      },
      "execution_count": null,
      "outputs": []
    },
    {
      "cell_type": "code",
      "source": [
        "data = pd.get_dummies(data, columns=['Your Gender', 'What is your job type (Desk Job / Student / Athlete)', 'Do you prefer Indoor or Outdoor workouts? ', 'What type of workout do you prefer? (Body weight workouts (Eg: Push-ups, Sit-ups, Planks, Squats etc.) / Gym workouts (Eg: Bench press, Deadlifts, Treadmill exercises, Leg press etc./ No preference ', 'If yes, specify the injuries from the provided list (list: Lower Back/ Pain/Injury / Shoulder Injury / Knee Injury / Wrist Injury / Ankle Injury / Hip Injury)'])\n"
      ],
      "metadata": {
        "id": "4-Y1JHl7QVfM"
      },
      "execution_count": null,
      "outputs": []
    },
    {
      "cell_type": "code",
      "source": [
        "\n",
        "data = pd.get_dummies(data, columns=[\"What are your fitness goals (Weight loss / Weight gain / Building muscle mass / Improving cardiovascular health / Increasing stamina/ endurance / Improving mental health)\"])\n"
      ],
      "metadata": {
        "id": "MQnIi8I3Seg8"
      },
      "execution_count": null,
      "outputs": []
    },
    {
      "cell_type": "code",
      "source": [
        "print(data.head(1))"
      ],
      "metadata": {
        "colab": {
          "base_uri": "https://localhost:8080/"
        },
        "id": "wxfZ4CRAPY6O",
        "outputId": "4ef09953-67f9-4ce6-9eb4-e59f3fa33ece"
      },
      "execution_count": null,
      "outputs": [
        {
          "output_type": "stream",
          "name": "stdout",
          "text": [
            "   Age  Your Weight  How many days a week do you like to exercise? (0-7)  \\\n",
            "0   23           70                                                  2     \n",
            "\n",
            "   What is your preferred duration in minutes  Injury Status  B1  B10  B11  \\\n",
            "0                                          60              0   1    0    0   \n",
            "\n",
            "   B12  B13  ...  \\\n",
            "0    0    0  ...   \n",
            "\n",
            "   If yes, specify the injuries from the provided list (list: Lower Back/ Pain/Injury / Shoulder Injury / Knee Injury / Wrist Injury / Ankle Injury / Hip Injury)_Shoulder Injury  \\\n",
            "0                                                  0                                                                                                                                \n",
            "\n",
            "   If yes, specify the injuries from the provided list (list: Lower Back/ Pain/Injury / Shoulder Injury / Knee Injury / Wrist Injury / Ankle Injury / Hip Injury)_Shoulder Injury;Knee Injury  \\\n",
            "0                                                  0                                                                                                                                            \n",
            "\n",
            "   If yes, specify the injuries from the provided list (list: Lower Back/ Pain/Injury / Shoulder Injury / Knee Injury / Wrist Injury / Ankle Injury / Hip Injury)_Shoulder Injury;Wrist Injury  \\\n",
            "0                                                  0                                                                                                                                             \n",
            "\n",
            "   If yes, specify the injuries from the provided list (list: Lower Back/ Pain/Injury / Shoulder Injury / Knee Injury / Wrist Injury / Ankle Injury / Hip Injury)_Wrist Injury  \\\n",
            "0                                                  0                                                                                                                             \n",
            "\n",
            "   What are your fitness goals (Weight loss / Weight gain / Building muscle mass / Improving cardiovascular health / Increasing stamina/ endurance / Improving mental health)_Building muscle mass  \\\n",
            "0                                                  0                                                                                                                                                 \n",
            "\n",
            "   What are your fitness goals (Weight loss / Weight gain / Building muscle mass / Improving cardiovascular health / Increasing stamina/ endurance / Improving mental health)_Improving cardiovascular health  \\\n",
            "0                                                  0                                                                                                                                                            \n",
            "\n",
            "   What are your fitness goals (Weight loss / Weight gain / Building muscle mass / Improving cardiovascular health / Increasing stamina/ endurance / Improving mental health)_Improving mental health  \\\n",
            "0                                                  0                                                                                                                                                    \n",
            "\n",
            "   What are your fitness goals (Weight loss / Weight gain / Building muscle mass / Improving cardiovascular health / Increasing stamina/ endurance / Improving mental health)_Increasing stamina/ endurance  \\\n",
            "0                                                  0                                                                                                                                                          \n",
            "\n",
            "   What are your fitness goals (Weight loss / Weight gain / Building muscle mass / Improving cardiovascular health / Increasing stamina/ endurance / Improving mental health)_Weight gain  \\\n",
            "0                                                  1                                                                                                                                        \n",
            "\n",
            "   What are your fitness goals (Weight loss / Weight gain / Building muscle mass / Improving cardiovascular health / Increasing stamina/ endurance / Improving mental health)_Weight loss  \n",
            "0                                                  0                                                                                                                                       \n",
            "\n",
            "[1 rows x 67 columns]\n"
          ]
        }
      ]
    },
    {
      "cell_type": "code",
      "source": [
        "from sklearn.neighbors import KNeighborsClassifier\n",
        "from sklearn.svm import SVC\n",
        "from sklearn.naive_bayes import GaussianNB\n",
        "from sklearn.metrics import accuracy_score\n",
        "from sklearn.model_selection import train_test_split\n",
        "from sklearn.multioutput import MultiOutputClassifier\n",
        "from sklearn.ensemble import RandomForestClassifier\n",
        "\n",
        "# Define your features and labels\n",
        "X = data.drop(mlb.classes_, axis=1)  # dropping the columns representing exercises\n",
        "Y = data[mlb.classes_]\n",
        "\n",
        "# Split the data into training and test sets\n",
        "X_train, X_test, Y_train, Y_test = train_test_split(X, Y, test_size=0.2, random_state=42)\n",
        "# Random Forest\n",
        "forest = RandomForestClassifier(random_state=1)\n",
        "multi_target_forest = MultiOutputClassifier(forest, n_jobs=-1)\n",
        "multi_target_forest.fit(X_train, Y_train)\n",
        "Y_pred_rf = multi_target_forest.predict(X_test)\n",
        "acc_rf = accuracy_score(Y_test, Y_pred_rf)\n"
      ],
      "metadata": {
        "id": "zw6uSsfFNy08"
      },
      "execution_count": null,
      "outputs": []
    },
    {
      "cell_type": "code",
      "source": [
        "from sklearn.metrics import precision_score, recall_score, f1_score, jaccard_score\n",
        "from sklearn.metrics import classification_report, confusion_matrix, roc_curve, auc\n",
        "import seaborn as sns\n",
        "import matplotlib.pyplot as plt\n",
        "\n",
        "micro_precision_scores = [precision_score(Y_test, Y_pred_rf, average='micro')\n",
        "                      ]\n",
        "\n",
        "micro_recall_scores = [recall_score(Y_test, Y_pred_rf, average='micro')]\n",
        "\n",
        "micro_f1_scores = [f1_score(Y_test, Y_pred_rf, average='micro')]\n"
      ],
      "metadata": {
        "id": "ZZy_6gqnZ4qy"
      },
      "execution_count": null,
      "outputs": []
    },
    {
      "cell_type": "code",
      "source": [
        "jaccard_scores = [jaccard_score(Y_test, Y_pred_rf, average='samples')]\n"
      ],
      "metadata": {
        "id": "pEkKuTeMZ7og"
      },
      "execution_count": null,
      "outputs": []
    },
    {
      "cell_type": "code",
      "source": [
        "rf_index = 0\n",
        "\n",
        "print(f\"Metrics for Random Forest:\")\n",
        "print(f\"Micro-Averaged Precision: {micro_precision_scores[rf_index]}\")\n",
        "print(f\"Micro-Averaged Recall: {micro_recall_scores[rf_index]}\")\n",
        "print(f\"Micro-Averaged F1 Score: {micro_f1_scores[rf_index]}\")\n",
        "print(f\"Jaccard Similarity Coefficient: {jaccard_scores[rf_index]}\")\n"
      ],
      "metadata": {
        "colab": {
          "base_uri": "https://localhost:8080/"
        },
        "id": "0NE_3IgwbodI",
        "outputId": "f7e70d60-d926-4609-cae6-4e0495830db2"
      },
      "execution_count": null,
      "outputs": [
        {
          "output_type": "stream",
          "name": "stdout",
          "text": [
            "Metrics for Random Forest:\n",
            "Micro-Averaged Precision: 0.9458333333333333\n",
            "Micro-Averaged Recall: 0.8165467625899281\n",
            "Micro-Averaged F1 Score: 0.8764478764478765\n",
            "Jaccard Similarity Coefficient: 0.6707317073170732\n"
          ]
        }
      ]
    },
    {
      "cell_type": "code",
      "source": [
        "from joblib import dump\n",
        "\n",
        "# save the model to disk\n",
        "filename = 'random_forest_model.joblib'\n",
        "dump(multi_target_forest, filename)\n"
      ],
      "metadata": {
        "colab": {
          "base_uri": "https://localhost:8080/"
        },
        "id": "yEypZTs3f1b3",
        "outputId": "64960501-e820-4f3f-a352-2e78331b8def"
      },
      "execution_count": null,
      "outputs": [
        {
          "output_type": "execute_result",
          "data": {
            "text/plain": [
              "['random_forest_model.joblib']"
            ]
          },
          "metadata": {},
          "execution_count": 46
        }
      ]
    }
  ]
}