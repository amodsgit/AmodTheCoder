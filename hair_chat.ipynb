{
  "nbformat": 4,
  "nbformat_minor": 0,
  "metadata": {
    "colab": {
      "provenance": [],
      "authorship_tag": "ABX9TyO11CllloJ0uSdf92c1mHEF",
      "include_colab_link": true
    },
    "kernelspec": {
      "name": "python3",
      "display_name": "Python 3"
    },
    "language_info": {
      "name": "python"
    }
  },
  "cells": [
    {
      "cell_type": "markdown",
      "metadata": {
        "id": "view-in-github",
        "colab_type": "text"
      },
      "source": [
        "<a href=\"https://colab.research.google.com/github/amodsgit/AmodTheCoder/blob/main/hair_chat.ipynb\" target=\"_parent\"><img src=\"https://colab.research.google.com/assets/colab-badge.svg\" alt=\"Open In Colab\"/></a>"
      ]
    },
    {
      "cell_type": "markdown",
      "source": [
        "For any inquiries regarding this code, please feel free to contact me at amods98@icloud.com"
      ],
      "metadata": {
        "id": "k9FJa6mFkkpf"
      }
    },
    {
      "cell_type": "code",
      "execution_count": 2,
      "metadata": {
        "id": "N_074zFAamGs"
      },
      "outputs": [],
      "source": [
        "!pip install -qU langchain openai pinecone-client"
      ]
    },
    {
      "cell_type": "code",
      "source": [
        "import openai\n",
        "PINECONE_API_KEY = \"e02414a4-a7de-46da-927d-632b8008c9ab\"  # Pinecone API Key\n",
        "PINECONE_ENV = 'us-west4-gcp-free'\n",
        "\n",
        "index_name = \"haircare-chat-sit\"\n",
        "\n",
        "import os\n",
        "\n",
        "os.environ['OPENAI_API_KEY'] = '<Replace with your API key>' #Get an OpenAI API key from platform.openai.com\n",
        "\n",
        "openai.api_key = os.getenv(\"OPENAI_API_KEY\") or \"OPENAI_API_KEY\""
      ],
      "metadata": {
        "id": "xJKJMfTba7qw"
      },
      "execution_count": 3,
      "outputs": []
    },
    {
      "cell_type": "code",
      "source": [
        "import pinecone\n",
        "pinecone.init(\n",
        "    api_key=PINECONE_API_KEY,\n",
        "    environment=PINECONE_ENV,\n",
        ")\n",
        "pinecone.whoami()"
      ],
      "metadata": {
        "colab": {
          "base_uri": "https://localhost:8080/"
        },
        "id": "QRx41K1pbHNo",
        "outputId": "b0ceec43-abaf-4c17-a3f9-4892d9b6e4ab"
      },
      "execution_count": 4,
      "outputs": [
        {
          "output_type": "stream",
          "name": "stderr",
          "text": [
            "/usr/local/lib/python3.10/dist-packages/pinecone/index.py:4: TqdmExperimentalWarning: Using `tqdm.autonotebook.tqdm` in notebook mode. Use `tqdm.tqdm` instead to force console mode (e.g. in jupyter console)\n",
            "  from tqdm.autonotebook import tqdm\n"
          ]
        },
        {
          "output_type": "execute_result",
          "data": {
            "text/plain": [
              "WhoAmIResponse(username='24b6755', user_label='default', projectname='fdd0d9a')"
            ]
          },
          "metadata": {},
          "execution_count": 4
        }
      ]
    },
    {
      "cell_type": "code",
      "source": [
        "index = pinecone.Index(index_name)\n",
        "index.describe_index_stats()"
      ],
      "metadata": {
        "colab": {
          "base_uri": "https://localhost:8080/"
        },
        "id": "zNdqxZpbbUBP",
        "outputId": "38aec24f-da44-4608-915a-d79d770b1353"
      },
      "execution_count": 5,
      "outputs": [
        {
          "output_type": "execute_result",
          "data": {
            "text/plain": [
              "{'dimension': 1536,\n",
              " 'index_fullness': 0.0,\n",
              " 'namespaces': {'': {'vector_count': 273}},\n",
              " 'total_vector_count': 273}"
            ]
          },
          "metadata": {},
          "execution_count": 5
        }
      ]
    },
    {
      "cell_type": "code",
      "source": [
        "import openai\n",
        "import pprint\n",
        "import json\n",
        "from langchain.llms import OpenAI\n",
        "from langchain.chains import ConversationChain\n",
        "from langchain.memory import ConversationBufferWindowMemory\n",
        "# Embedding model\n",
        "embed_model = \"text-embedding-ada-002\"\n",
        "\n",
        "# Your question\n",
        "query = \"What are the side effects of Mupirocin?\"\n",
        "\n",
        "# Get the query embedding\n",
        "res = openai.Embedding.create(\n",
        "    input=[query],\n",
        "    engine=embed_model\n",
        ")\n",
        "\n",
        "# Retrieve the embedding from the response\n",
        "xq = res['data'][0]['embedding']\n",
        "\n",
        "# Use Pinecone to find the top 5 relevant contexts\n",
        "res = index.query(xq, top_k=1, include_metadata=True)\n",
        "\n",
        "# Extract the retrieved contexts\n",
        "contexts = [item['metadata'] for item in res['matches']]\n",
        "\n",
        "# Convert dictionaries to strings\n",
        "contexts = [\"\\n\".join(f\"{key}: {value}\" for key, value in context.items()) for context in contexts]\n",
        "\n",
        "# System primer message\n",
        "primer = {\n",
        "    'role': 'system',\n",
        "    'content': \"\"\"You are a sophisticated AI, capable of understanding complex medical information and responding to queries based on the context. The information you provide is based strictly on the data available within the conversation. If specific information has not been provided within the conversation, you cannot access it. Be sure to reference details provided within the context when forming your responses and be transparent when you don't have enough information to provide a reliable answer.\"\"\"\n",
        "}\n",
        "\n",
        "# User message\n",
        "user_message = {\n",
        "    \"role\": \"user\",\n",
        "    \"content\": query\n",
        "}\n",
        "\n",
        "# Context message\n",
        "context_messages = [{\n",
        "    \"role\": \"assistant\",\n",
        "    \"content\": context\n",
        "} for context in contexts]\n",
        "\n",
        "# Messages to be sent to the API\n",
        "messages = [primer, *context_messages, user_message]\n",
        "\n",
        "# Print the formatted messages\n",
        "pprint.pprint(messages)\n"
      ],
      "metadata": {
        "colab": {
          "base_uri": "https://localhost:8080/"
        },
        "id": "Lhug2QHYbhn-",
        "outputId": "ccfc1b70-76da-4c52-96bc-a29f827db65c"
      },
      "execution_count": 22,
      "outputs": [
        {
          "output_type": "stream",
          "name": "stdout",
          "text": [
            "[{'content': 'You are a sophisticated AI, capable of understanding complex '\n",
            "             'medical information and responding to queries based on the '\n",
            "             'context. The information you provide is based strictly on the '\n",
            "             'data available within the conversation. If specific information '\n",
            "             'has not been provided within the conversation, you cannot access '\n",
            "             'it. Be sure to reference details provided within the context '\n",
            "             \"when forming your responses and be transparent when you don't \"\n",
            "             'have enough information to provide a reliable answer.',\n",
            "  'role': 'system'},\n",
            " {'content': 'hair_disease: Folliculitis\\n'\n",
            "             'medication: Mupirocin\\n'\n",
            "             'severity: Mild\\n'\n",
            "             'side_effects: Burning sensation, Itching, Redness\\n'\n",
            "             'symptoms: Red and swollen hair follicles, itchy or burning skin, '\n",
            "             'pus-filled blisters that break open and crust over.',\n",
            "  'role': 'assistant'},\n",
            " {'content': 'What are the side effects of Mupirocin?', 'role': 'user'}]\n"
          ]
        }
      ]
    },
    {
      "cell_type": "code",
      "source": [
        "from langchain.chat_models import ChatOpenAI\n",
        "from langchain.schema import (\n",
        "    AIMessage,\n",
        "    HumanMessage,\n",
        "    SystemMessage\n",
        ")\n",
        "primer_str = primer['content']\n",
        "final_prompt = primer_str + '\\n' + 'User query: ' + query + '\\n' + 'Context: ' + '{' + ' '.join(contexts) + '}'  #create the final propt of the first message\n",
        "\n",
        "print(final_prompt)"
      ],
      "metadata": {
        "colab": {
          "base_uri": "https://localhost:8080/"
        },
        "id": "jF7nmSo6fouK",
        "outputId": "28f08a44-6e03-4944-e61a-1359fe527c0b"
      },
      "execution_count": 23,
      "outputs": [
        {
          "output_type": "stream",
          "name": "stdout",
          "text": [
            "You are a sophisticated AI, capable of understanding complex medical information and responding to queries based on the context. The information you provide is based strictly on the data available within the conversation. If specific information has not been provided within the conversation, you cannot access it. Be sure to reference details provided within the context when forming your responses and be transparent when you don't have enough information to provide a reliable answer.\n",
            "User query: What are the side effects of Mupirocin?\n",
            "Context: {hair_disease: Folliculitis\n",
            "medication: Mupirocin\n",
            "severity: Mild\n",
            "side_effects: Burning sensation, Itching, Redness\n",
            "symptoms: Red and swollen hair follicles, itchy or burning skin, pus-filled blisters that break open and crust over.}\n"
          ]
        }
      ]
    },
    {
      "cell_type": "code",
      "source": [
        "\n",
        "llm = ChatOpenAI(\n",
        "    temperature=0,  #randomness of the llm response\n",
        "    model='gpt-3.5-turbo'\n",
        ")\n",
        "\n",
        "conversation = ConversationChain(\n",
        "    llm=llm,\n",
        "    memory=ConversationBufferWindowMemory(k=1) # we can use\n",
        ")\n",
        "\n",
        "res = conversation(final_prompt)"
      ],
      "metadata": {
        "id": "Xb-Vk9FqmMlB"
      },
      "execution_count": 24,
      "outputs": []
    },
    {
      "cell_type": "code",
      "source": [
        "print(res['response'])"
      ],
      "metadata": {
        "colab": {
          "base_uri": "https://localhost:8080/"
        },
        "id": "waC2gFBDb3o-",
        "outputId": "6f0504da-23c2-4d13-8dfe-5d5a774b812a"
      },
      "execution_count": 25,
      "outputs": [
        {
          "output_type": "stream",
          "name": "stdout",
          "text": [
            "The side effects of Mupirocin, based on the context provided, include a burning sensation, itching, and redness. These side effects may occur when using Mupirocin to treat folliculitis, a hair disease characterized by red and swollen hair follicles, itchy or burning skin, and pus-filled blisters that break open and crust over.\n"
          ]
        }
      ]
    },
    {
      "cell_type": "code",
      "source": [
        "res2 = conversation('what is it prescribed for?') # second and subsequent message are passed directly without semantic search"
      ],
      "metadata": {
        "id": "70qbtPxKoGMd"
      },
      "execution_count": 26,
      "outputs": []
    },
    {
      "cell_type": "code",
      "source": [
        "print(res2['response'])"
      ],
      "metadata": {
        "colab": {
          "base_uri": "https://localhost:8080/"
        },
        "id": "LFGE3II7dxTP",
        "outputId": "8e86dca4-19ee-43e2-eb92-0ad8acd58c62"
      },
      "execution_count": 27,
      "outputs": [
        {
          "output_type": "stream",
          "name": "stdout",
          "text": [
            "Mupirocin is commonly prescribed to treat bacterial skin infections, such as impetigo and folliculitis. It is an antibiotic ointment that works by killing or stopping the growth of certain bacteria on the skin.\n"
          ]
        }
      ]
    },
    {
      "cell_type": "code",
      "source": [
        "res3 = conversation('what should i do in case of side effects?')"
      ],
      "metadata": {
        "id": "DDkz6kvtd2KV"
      },
      "execution_count": 28,
      "outputs": []
    },
    {
      "cell_type": "code",
      "source": [
        "print(res3['response'])"
      ],
      "metadata": {
        "colab": {
          "base_uri": "https://localhost:8080/"
        },
        "id": "R_uwD9nBe8wd",
        "outputId": "a9f101f5-e709-45a8-ba74-ade40ba4f40f"
      },
      "execution_count": 29,
      "outputs": [
        {
          "output_type": "stream",
          "name": "stdout",
          "text": [
            "If you experience any side effects while using Mupirocin, it is important to consult your healthcare provider. They will be able to provide guidance on what steps to take. In general, common side effects may include itching, burning, or stinging at the application site. If these side effects persist or worsen, it is important to seek medical attention.\n"
          ]
        }
      ]
    }
  ]
}