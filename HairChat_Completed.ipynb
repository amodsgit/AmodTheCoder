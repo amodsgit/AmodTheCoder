{
  "nbformat": 4,
  "nbformat_minor": 0,
  "metadata": {
    "colab": {
      "provenance": [],
      "authorship_tag": "ABX9TyOrrjKxHsoXb55jGhvBviEL",
      "include_colab_link": true
    },
    "kernelspec": {
      "name": "python3",
      "display_name": "Python 3"
    },
    "language_info": {
      "name": "python"
    }
  },
  "cells": [
    {
      "cell_type": "markdown",
      "metadata": {
        "id": "view-in-github",
        "colab_type": "text"
      },
      "source": [
        "<a href=\"https://colab.research.google.com/github/amodsgit/AmodTheCoder/blob/main/HairChat_Completed.ipynb\" target=\"_parent\"><img src=\"https://colab.research.google.com/assets/colab-badge.svg\" alt=\"Open In Colab\"/></a>"
      ]
    },
    {
      "cell_type": "code",
      "execution_count": 1,
      "metadata": {
        "id": "ASAH8nT1AyVG"
      },
      "outputs": [],
      "source": [
        "!pip install -qU \\\n",
        "  tiktoken==0.4.0 \\\n",
        "  openai==0.27.7 \\\n",
        "  langchain==0.0.179 \\\n",
        "  pinecone-client==2.2.1 \\\n",
        "  datasets==2.13.1"
      ]
    },
    {
      "cell_type": "code",
      "source": [
        "from datasets import load_dataset\n",
        "\n",
        "data = load_dataset(\"Amod/hair_medical_sit\", split='train')\n",
        "data"
      ],
      "metadata": {
        "colab": {
          "base_uri": "https://localhost:8080/"
        },
        "id": "CsZj2qrGCWx7",
        "outputId": "7a9ce68a-5c72-4215-b4cd-a965b495de44"
      },
      "execution_count": 2,
      "outputs": [
        {
          "output_type": "stream",
          "name": "stderr",
          "text": [
            "WARNING:datasets.builder:Found cached dataset json (/root/.cache/huggingface/datasets/Amod___json/Amod--hair_medical_sit-6bcd99466c36287a/0.0.0/8bb11242116d547c741b2e8a1f18598ffdd40a1d4f2a2872c7a28b697434bc96)\n"
          ]
        },
        {
          "output_type": "execute_result",
          "data": {
            "text/plain": [
              "Dataset({\n",
              "    features: ['Hair Disease', 'Medication', 'Duration', 'Side Effects', 'Symptoms', ' Severity of Disease', 'Disease Description', 'Medication Description'],\n",
              "    num_rows: 91\n",
              "})"
            ]
          },
          "metadata": {},
          "execution_count": 2
        }
      ]
    },
    {
      "cell_type": "code",
      "source": [
        "data[45] # sanmple of a data record"
      ],
      "metadata": {
        "colab": {
          "base_uri": "https://localhost:8080/"
        },
        "id": "IXVZ6rcOCrS8",
        "outputId": "7b24d977-f8b2-40d2-e2ca-21b6434e172c"
      },
      "execution_count": 3,
      "outputs": [
        {
          "output_type": "execute_result",
          "data": {
            "text/plain": [
              "{'Hair Disease': 'Telogen effluvium',\n",
              " 'Medication': 'Niacin supplements',\n",
              " 'Duration': '3 months',\n",
              " 'Side Effects': 'Flushing, Headache, Itching',\n",
              " 'Symptoms': 'Sudden hair shedding, often in large amounts and usually from the scalp. The hair may appear thinner, but there are usually no bald patches.',\n",
              " ' Severity of Disease': 'Mild',\n",
              " 'Disease Description': 'Telogen effluvium is a scalp disorder characterized by the thinning or shedding of hair resulting from the early entry of hair in the telogen phase (the resting phase of the hair follicle). Emotional or physiological stress may result in an alteration of the normal hair cycle and cause the disorder.',\n",
              " 'Medication Description': 'Also known as vitamin B3, niacin can improve blood circulation in the scalp, which can stimulate hair growth.'}"
            ]
          },
          "metadata": {},
          "execution_count": 3
        }
      ]
    },
    {
      "cell_type": "code",
      "source": [
        "import tiktoken\n",
        "\n",
        "tiktoken.encoding_for_model('gpt-3.5-turbo')"
      ],
      "metadata": {
        "colab": {
          "base_uri": "https://localhost:8080/"
        },
        "id": "3d5vuMk4C5Fl",
        "outputId": "9c40f815-6ef1-4545-d9be-c5980f33d442"
      },
      "execution_count": 4,
      "outputs": [
        {
          "output_type": "execute_result",
          "data": {
            "text/plain": [
              "<Encoding 'cl100k_base'>"
            ]
          },
          "metadata": {},
          "execution_count": 4
        }
      ]
    },
    {
      "cell_type": "code",
      "source": [
        "import tiktoken\n",
        "\n",
        "tokenizer = tiktoken.get_encoding('cl100k_base')\n",
        "\n",
        "# create the length function\n",
        "def tiktoken_len(text):\n",
        "    tokens = tokenizer.encode(\n",
        "        text,\n",
        "        disallowed_special=()\n",
        "    )\n",
        "    return len(tokens)"
      ],
      "metadata": {
        "id": "01_9o12oIutb"
      },
      "execution_count": 5,
      "outputs": []
    },
    {
      "cell_type": "code",
      "source": [
        "tiktoken_len(' '.join(data[45].values()))"
      ],
      "metadata": {
        "colab": {
          "base_uri": "https://localhost:8080/"
        },
        "id": "lpNFwjPvI6la",
        "outputId": "bfb84381-05d0-4ad3-956f-9ea7533e7a32"
      },
      "execution_count": 6,
      "outputs": [
        {
          "output_type": "execute_result",
          "data": {
            "text/plain": [
              "134"
            ]
          },
          "metadata": {},
          "execution_count": 6
        }
      ]
    },
    {
      "cell_type": "code",
      "source": [
        "\n",
        "from getpass import getpass\n",
        "OPENAI_API_KEY = getpass('Enter your OpenAI API key')\n"
      ],
      "metadata": {
        "id": "4pDP_GvSa8LX",
        "colab": {
          "base_uri": "https://localhost:8080/"
        },
        "outputId": "19d7795c-9aae-4ec9-af19-11ca465f504a"
      },
      "execution_count": 7,
      "outputs": [
        {
          "name": "stdout",
          "output_type": "stream",
          "text": [
            "Enter your OpenAI API key··········\n"
          ]
        }
      ]
    },
    {
      "cell_type": "code",
      "source": [
        "from langchain.embeddings.openai import OpenAIEmbeddings\n",
        "\n",
        "model_name = 'text-embedding-ada-002'\n",
        "\n",
        "embed = OpenAIEmbeddings(\n",
        "    model=model_name,\n",
        "    openai_api_key=OPENAI_API_KEY\n",
        ")"
      ],
      "metadata": {
        "id": "dRPXE4hAa-jP"
      },
      "execution_count": 8,
      "outputs": []
    },
    {
      "cell_type": "code",
      "execution_count": 9,
      "metadata": {
        "tags": [
          "parameters"
        ],
        "id": "bNA-w12ma3Oz"
      },
      "outputs": [],
      "source": [
        "index_name = 'haircare-chat-sit'"
      ]
    },
    {
      "cell_type": "code",
      "execution_count": 10,
      "metadata": {
        "id": "9pT9C4nW4vwo",
        "colab": {
          "base_uri": "https://localhost:8080/"
        },
        "outputId": "c533bcd0-36dc-4252-e058-d9e036c731d3"
      },
      "outputs": [
        {
          "name": "stdout",
          "output_type": "stream",
          "text": [
            "Enter your API key··········\n",
            "Enter your ENV··········\n"
          ]
        },
        {
          "output_type": "execute_result",
          "data": {
            "text/plain": [
              "WhoAmIResponse(username='24b6755', user_label='default', projectname='fdd0d9a')"
            ]
          },
          "metadata": {},
          "execution_count": 10
        }
      ],
      "source": [
        "import pinecone\n",
        "\n",
        "# initialize connection to pinecone (get API key at app.pinecone.io)\n",
        "api_key = getpass('Enter your API key')\n",
        "# find your environment next to the api key in pinecone console\n",
        "env = getpass('Enter your ENV')\n",
        "\n",
        "pinecone.init(api_key=api_key, environment=env)\n",
        "pinecone.whoami()"
      ]
    },
    {
      "cell_type": "code",
      "source": [
        "import time\n",
        "\n",
        "# check if index already exists (it shouldn't if this is first time)\n",
        "if index_name not in pinecone.list_indexes():\n",
        "    # if does not exist, create index\n",
        "    pinecone.create_index(\n",
        "        index_name,\n",
        "        dimension=1536,\n",
        "        metric='cosine'\n",
        "    )\n",
        "    # wait for index to be initialized\n",
        "    while not pinecone.describe_index(index_name).status['ready']:\n",
        "        time.sleep(1)\n",
        "\n",
        "# connect to index\n",
        "index = pinecone.Index(index_name)\n",
        "# view index stats\n",
        "index.describe_index_stats()"
      ],
      "metadata": {
        "id": "7N3T7xAsbTzw",
        "colab": {
          "base_uri": "https://localhost:8080/"
        },
        "outputId": "0af9221d-9d4c-499b-a0cb-ed0506e60b1f"
      },
      "execution_count": 11,
      "outputs": [
        {
          "output_type": "execute_result",
          "data": {
            "text/plain": [
              "{'dimension': 1536,\n",
              " 'index_fullness': 0.0,\n",
              " 'namespaces': {},\n",
              " 'total_vector_count': 0}"
            ]
          },
          "metadata": {},
          "execution_count": 11
        }
      ]
    },
    {
      "cell_type": "code",
      "source": [
        "from tqdm.auto import tqdm\n",
        "from uuid import uuid4\n",
        "# prepare texts and metadata from dataset\n",
        "texts = []\n",
        "metadatas = []\n",
        "\n",
        "for i, record in enumerate(data):\n",
        "    # Prepare metadata for this record\n",
        "    metadata = {\n",
        "        'severity': record[' Severity of Disease'],\n",
        "        'hair_disease': record['Hair Disease'],\n",
        "        'side_effects': record['Side Effects'],\n",
        "        'medication': record['Medication'],\n",
        "        'symptoms': record['Symptoms']\n",
        "    }\n",
        "\n",
        "    # Prepare texts for this record\n",
        "    # Add more structure to the text by prefixing each field with its name\n",
        "    text = \"Severity: \" + record[' Severity of Disease'] + \\\n",
        "           \". Hair Disease: \" + record['Hair Disease'] + \\\n",
        "           \". Duration: \" + record['Duration'] + \\\n",
        "           \". Medication Description: \" + record['Medication Description'] + \\\n",
        "           \". Disease Description: \" + record['Disease Description'] + \\\n",
        "           \". Side Effects: \" + record['Side Effects'] + \\\n",
        "           \". Medication: \" + record['Medication'] + \\\n",
        "           \". Symptoms: \" + record['Symptoms']\n",
        "\n",
        "    texts.append(text)\n",
        "    metadatas.append(metadata)\n",
        "\n",
        "# create embeddings\n",
        "embeds = embed.embed_documents(texts)\n",
        "\n",
        "# indexing\n",
        "ids = [str(uuid4()) for _ in range(len(texts))]\n",
        "index.upsert(vectors=zip(ids, embeds, metadatas))\n",
        "\n",
        "# check number of vectors in the index\n",
        "index.describe_index_stats()\n"
      ],
      "metadata": {
        "colab": {
          "base_uri": "https://localhost:8080/"
        },
        "id": "ZJp_LLHrE_rX",
        "outputId": "0b362a96-67b8-404d-e56b-05965e73ed6e"
      },
      "execution_count": 12,
      "outputs": [
        {
          "output_type": "execute_result",
          "data": {
            "text/plain": [
              "{'dimension': 1536,\n",
              " 'index_fullness': 0.0,\n",
              " 'namespaces': {'': {'vector_count': 91}},\n",
              " 'total_vector_count': 91}"
            ]
          },
          "metadata": {},
          "execution_count": 12
        }
      ]
    },
    {
      "cell_type": "code",
      "source": [
        "from langchain.vectorstores import Pinecone\n",
        "# Initialize the vector store\n",
        "vectorstore = Pinecone(index, embed.embed_query, \"text\")\n",
        "\n",
        "# Perform a search\n",
        "query = \"what is the side effect of Clobetasol propionate lotion?\"\n",
        "vectorstore.similarity_search(query, k=3)"
      ],
      "metadata": {
        "colab": {
          "base_uri": "https://localhost:8080/"
        },
        "id": "ZRyR911uFOVe",
        "outputId": "7f116987-a44a-419f-e81f-58c76c515d4f"
      },
      "execution_count": 14,
      "outputs": [
        {
          "output_type": "stream",
          "name": "stderr",
          "text": [
            "WARNING:langchain.vectorstores.pinecone:Found document with no `text` key. Skipping.\n",
            "WARNING:langchain.vectorstores.pinecone:Found document with no `text` key. Skipping.\n",
            "WARNING:langchain.vectorstores.pinecone:Found document with no `text` key. Skipping.\n"
          ]
        },
        {
          "output_type": "execute_result",
          "data": {
            "text/plain": [
              "[]"
            ]
          },
          "metadata": {},
          "execution_count": 14
        }
      ]
    },
    {
      "cell_type": "code",
      "source": [
        "import openai\n",
        "import pprint\n",
        "\n",
        "# Embedding model\n",
        "embed_model = \"text-embedding-ada-002\"\n",
        "\n",
        "# Your question\n",
        "query = \"What are the side effects of Clobetasol propionate lotion?\"\n",
        "\n",
        "# Get the query embedding\n",
        "res = openai.Embedding.create(\n",
        "    input=[query],\n",
        "    engine=embed_model\n",
        ")\n",
        "\n",
        "# Retrieve the embedding from the response\n",
        "xq = res['data'][0]['embedding']\n",
        "\n",
        "# Use Pinecone to find the top 5 relevant contexts\n",
        "res = index.query(xq, top_k=1, include_metadata=True)\n",
        "\n",
        "# Extract the retrieved contexts\n",
        "contexts = [item['metadata'] for item in res['matches']]\n",
        "\n",
        "# Convert dictionaries to strings\n",
        "contexts = [\"\\n\".join(f\"{key}: {value}\" for key, value in context.items()) for context in contexts]\n",
        "\n",
        "# System primer message\n",
        "primer = {\n",
        "    \"role\": \"system\",\n",
        "    \"content\": \"You are an intelligent assistant with extensive medical knowledge. You provide information and answer user questions to the best of your ability based on the information provided. If the information is not available in the given context, you truthfully say 'I don't know'.\"\n",
        "}\n",
        "\n",
        "# User message\n",
        "user_message = {\n",
        "    \"role\": \"user\",\n",
        "    \"content\": query\n",
        "}\n",
        "\n",
        "# Context message\n",
        "context_messages = [{\n",
        "    \"role\": \"assistant\",\n",
        "    \"content\": context\n",
        "} for context in contexts]\n",
        "\n",
        "# Messages to be sent to the API\n",
        "messages = [primer, *context_messages, user_message]\n",
        "\n",
        "# Print the formatted messages\n",
        "pprint.pprint(messages)\n",
        "\n",
        "# Create a conversation with GPT-3.5-turbo\n",
        "response = openai.ChatCompletion.create(\n",
        "    model=\"gpt-3.5-turbo\",\n",
        "    messages=messages,\n",
        "    temperature=0.8,\n",
        "    max_tokens=150\n",
        ")\n",
        "\n",
        "# Display the assistant's response\n",
        "print(response['choices'][0]['message']['content'])\n"
      ],
      "metadata": {
        "colab": {
          "base_uri": "https://localhost:8080/"
        },
        "id": "kVy7c493Llhl",
        "outputId": "f154d90e-32b0-409c-badb-a4165c67c0c5"
      },
      "execution_count": 25,
      "outputs": [
        {
          "output_type": "stream",
          "name": "stdout",
          "text": [
            "[{'content': 'You are an intelligent assistant with extensive medical '\n",
            "             'knowledge. You provide information and answer user questions to '\n",
            "             'the best of your ability based on the information provided. If '\n",
            "             'the information is not available in the given context, you '\n",
            "             \"truthfully say 'I don't know'.\",\n",
            "  'role': 'system'},\n",
            " {'content': 'hair_disease: Alopecia Areata\\n'\n",
            "             'medication: Clobetasol propionate lotion\\n'\n",
            "             'severity: Moderate to severe\\n'\n",
            "             'side_effects: Skin rash, Burning sensation, Itching\\n'\n",
            "             'symptoms: Patchy hair loss, often on the scalp. The patches are '\n",
            "             'usually several centimeters or less. Hair loss might also occur '\n",
            "             'on other parts of the body.',\n",
            "  'role': 'assistant'},\n",
            " {'content': 'What are the side effects of Clobetasol propionate lotion?',\n",
            "  'role': 'user'}]\n",
            "The side effects of Clobetasol propionate lotion can include skin rash, burning sensation, and itching at the application site. These side effects are relatively common and are generally mild and temporary. However, it's important to note that everyone can react differently to medications, so it's always a good idea to discuss any concerns or persistent side effects with your healthcare provider.\n"
          ]
        }
      ]
    }
  ]
}