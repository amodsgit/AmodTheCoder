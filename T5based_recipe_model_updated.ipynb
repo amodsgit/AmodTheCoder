{
  "nbformat": 4,
  "nbformat_minor": 0,
  "metadata": {
    "colab": {
      "provenance": [],
      "gpuType": "T4",
      "include_colab_link": true
    },
    "kernelspec": {
      "name": "python3",
      "display_name": "Python 3"
    },
    "language_info": {
      "name": "python"
    },
    "accelerator": "GPU"
  },
  "cells": [
    {
      "cell_type": "markdown",
      "metadata": {
        "id": "view-in-github",
        "colab_type": "text"
      },
      "source": [
        "<a href=\"https://colab.research.google.com/github/amodsgit/AmodTheCoder/blob/main/T5based_recipe_model_updated.ipynb\" target=\"_parent\"><img src=\"https://colab.research.google.com/assets/colab-badge.svg\" alt=\"Open In Colab\"/></a>"
      ]
    },
    {
      "cell_type": "code",
      "execution_count": 1,
      "metadata": {
        "id": "lnphJwclV3dP"
      },
      "outputs": [],
      "source": [
        "# Step 1: Install necessary packages\n",
        "!pip -q install transformers"
      ]
    },
    {
      "cell_type": "code",
      "source": [
        "# Step 2: Import necessary libraries\n",
        "from transformers import FlaxAutoModelForSeq2SeqLM, AutoTokenizer\n",
        "import requests\n",
        "import json\n"
      ],
      "metadata": {
        "id": "HvPML713V5R0"
      },
      "execution_count": 2,
      "outputs": []
    },
    {
      "cell_type": "code",
      "source": [
        "# Step 3: Define the model and tokenizer\n",
        "MODEL_NAME_OR_PATH = \"flax-community/t5-recipe-generation\"\n",
        "tokenizer = AutoTokenizer.from_pretrained(MODEL_NAME_OR_PATH, use_fast=True)\n",
        "model = FlaxAutoModelForSeq2SeqLM.from_pretrained(MODEL_NAME_OR_PATH)"
      ],
      "metadata": {
        "id": "nFdyAT-2V_FD"
      },
      "execution_count": 4,
      "outputs": []
    },
    {
      "cell_type": "code",
      "source": [
        "# Step 4: Define prefix and generation parameters\n",
        "prefix = \"items: \"\n",
        "generation_kwargs = {\n",
        "    \"max_length\": 512,\n",
        "    \"min_length\": 64,\n",
        "    \"no_repeat_ngram_size\": 3,\n",
        "    \"do_sample\": True,\n",
        "    \"top_k\": 60,\n",
        "    \"top_p\": 0.95\n",
        "}"
      ],
      "metadata": {
        "id": "ceyeKSREWBr9"
      },
      "execution_count": 5,
      "outputs": []
    },
    {
      "cell_type": "code",
      "source": [
        "# Step 5: Define special tokens and their mapping\n",
        "special_tokens = tokenizer.all_special_tokens\n",
        "tokens_map = {\n",
        "    \"<sep>\": \"--\",\n",
        "    \"<section>\": \"\\n\"\n",
        "}"
      ],
      "metadata": {
        "id": "wqJs1vk8WGGM"
      },
      "execution_count": 6,
      "outputs": []
    },
    {
      "cell_type": "code",
      "source": [
        "# Step 6: Define the function to skip special tokens\n",
        "def skip_special_tokens(text, special_tokens):\n",
        "    for token in special_tokens:\n",
        "        text = text.replace(token, \"\")\n",
        "    return text"
      ],
      "metadata": {
        "id": "6MHKOqCbWJrD"
      },
      "execution_count": 7,
      "outputs": []
    },
    {
      "cell_type": "code",
      "source": [
        "# Step 7: Define the function for postprocessing the output\n",
        "def target_postprocessing(texts, special_tokens):\n",
        "    if not isinstance(texts, list):\n",
        "        texts = [texts]\n",
        "\n",
        "    new_texts = []\n",
        "    for text in texts:\n",
        "        text = skip_special_tokens(text, special_tokens)\n",
        "\n",
        "        for k, v in tokens_map.items():\n",
        "            text = text.replace(k, v)\n",
        "\n",
        "        new_texts.append(text)\n",
        "\n",
        "    return new_texts"
      ],
      "metadata": {
        "id": "sVkYlBq1WLza"
      },
      "execution_count": 8,
      "outputs": []
    },
    {
      "cell_type": "code",
      "source": [
        "COMMON_INGREDIENTS = ['salt']  # Define common ingredients here\n",
        "API_NINJAS_KEY = \"ElNmsjpzj8EURGIKbAj90Q==4iG8q4Fd43uSDQEP\"  # Replace with your api-ninjas key\n",
        "\n",
        "def estimate_calories(ingredients):\n",
        "    total_calories = 0\n",
        "    for ingredient in ingredients:\n",
        "        # Request nutritional information from the food database\n",
        "        response = requests.get('https://api.api-ninjas.com/v1/nutrition?query={}'.format(ingredient),\n",
        "                                headers={'X-Api-Key': API_NINJAS_KEY})\n",
        "        if response.status_code == requests.codes.ok:\n",
        "            data = json.loads(response.text)\n",
        "            if data:\n",
        "                for item in data:\n",
        "                    calories = item.get('calories', 0)  # default to 0 if no calories data is returned\n",
        "                    #print(f\"Calories in {ingredient}: {calories}\")\n",
        "                    total_calories += calories\n",
        "            else:\n",
        "                print(f\"Couldn't find nutritional information for {ingredient}\")\n",
        "        else:\n",
        "            print(\"Error:\", response.status_code, response.text)\n",
        "    return total_calories\n",
        "\n",
        "def generation_function(texts):\n",
        "    _inputs = texts if isinstance(texts, list) else [texts]\n",
        "    # Concatenate user-provided ingredients with common ingredients\n",
        "    inputs = [prefix + ', '.join(COMMON_INGREDIENTS + inp.split(', ')) for inp in _inputs]\n",
        "    inputs = tokenizer(\n",
        "        inputs,\n",
        "        max_length=256,\n",
        "        padding=\"max_length\",\n",
        "        truncation=True,\n",
        "        return_tensors=\"jax\"\n",
        "    )\n",
        "\n",
        "    input_ids = inputs.input_ids\n",
        "    attention_mask = inputs.attention_mask\n",
        "\n",
        "    output_ids = model.generate(\n",
        "        input_ids=input_ids,\n",
        "        attention_mask=attention_mask,\n",
        "        **generation_kwargs\n",
        "    )\n",
        "    generated = output_ids.sequences\n",
        "    generated_recipe = target_postprocessing(\n",
        "        tokenizer.batch_decode(generated, skip_special_tokens=False),\n",
        "        special_tokens\n",
        "    )\n",
        "\n",
        "    return generated_recipe"
      ],
      "metadata": {
        "id": "Ab5D_uGoWOVN"
      },
      "execution_count": 25,
      "outputs": []
    },
    {
      "cell_type": "code",
      "source": [
        "def generate_recipe_json(items):\n",
        "    generated = generation_function(items)\n",
        "    recipes = []\n",
        "    for recipe in generated:\n",
        "        recipe_dict = {}\n",
        "        blocks = recipe.split('\\n')\n",
        "        for block in blocks:\n",
        "            if block.startswith(' title:'):\n",
        "                recipe_dict['Title'] = block.replace(' title:', '').strip().capitalize()\n",
        "            elif block.startswith(' ingredients:'):\n",
        "                ingredients_block = block.replace(' ingredients:', '')\n",
        "                ingredients = [ing.strip() for ing in ingredients_block.split('--')]\n",
        "                recipe_dict['Ingredients'] = ingredients\n",
        "            elif block.startswith(' directions:'):\n",
        "                directions_block = block.replace(' directions:', '')\n",
        "                directions = [dir.strip().capitalize() for dir in directions_block.split('--')]\n",
        "                recipe_dict['Directions'] = directions\n",
        "        # calculate calories\n",
        "        total_calories = estimate_calories(recipe_dict['Ingredients'])\n",
        "        recipe_dict['Calories Per Portion'] = total_calories//2\n",
        "        recipes.append(recipe_dict)\n",
        "    return json.dumps(recipes, indent=4)\n",
        "\n",
        "\n",
        "\n",
        "items = [\n",
        "    \"chicken thigh, garlic, bell pepper, onion, cauliflower, pasta, milk\"\n",
        "]\n",
        "\n",
        "recipes_json = generate_recipe_json(items)\n",
        "print(recipes_json)"
      ],
      "metadata": {
        "colab": {
          "base_uri": "https://localhost:8080/"
        },
        "id": "qnk-f-Yrhb7g",
        "outputId": "9b9b3048-8a39-401d-d9e1-dab652662ff1"
      },
      "execution_count": 26,
      "outputs": [
        {
          "output_type": "stream",
          "name": "stdout",
          "text": [
            "[\n",
            "    {\n",
            "        \"Title\": \"Quick healthy stroganoff\",\n",
            "        \"Ingredients\": [\n",
            "            \"1/4 tsp salt\",\n",
            "            \"400 grams chicken thigh meat\",\n",
            "            \"1 garlic powder\",\n",
            "            \"1 bell pepper\",\n",
            "            \"1/2 onion\",\n",
            "            \"80 grams cauliflower\",\n",
            "            \"50 grams pasta\",\n",
            "            \"1 can milk\"\n",
            "        ],\n",
            "        \"Directions\": [\n",
            "            \"Cut the chicken thighs into bite size pieces.\",\n",
            "            \"Saute the chicken, garlic powder, onion, and bell pepper until the chicken is almost cooked through.\",\n",
            "            \"Put in the cauliflower and steam for a while.\",\n",
            "            \"Put the pasta into boiling water in a pot, then add the chicken and pepper mixture.\",\n",
            "            \"Simmer for 5 minutes on low heat, then add the milk, and mix well.\",\n",
            "            \"When the liquid thickens, serve on a plate.\"\n",
            "        ],\n",
            "        \"Calories Per Portion\": 473.0\n",
            "    }\n",
            "]\n"
          ]
        }
      ]
    }
  ]
}