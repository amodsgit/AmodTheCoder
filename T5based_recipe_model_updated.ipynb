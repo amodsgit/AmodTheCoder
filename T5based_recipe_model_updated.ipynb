{
  "nbformat": 4,
  "nbformat_minor": 0,
  "metadata": {
    "colab": {
      "provenance": [],
      "gpuType": "T4",
      "include_colab_link": true
    },
    "kernelspec": {
      "name": "python3",
      "display_name": "Python 3"
    },
    "language_info": {
      "name": "python"
    },
    "accelerator": "GPU"
  },
  "cells": [
    {
      "cell_type": "markdown",
      "metadata": {
        "id": "view-in-github",
        "colab_type": "text"
      },
      "source": [
        "<a href=\"https://colab.research.google.com/github/amodsgit/AmodTheCoder/blob/main/T5based_recipe_model_updated.ipynb\" target=\"_parent\"><img src=\"https://colab.research.google.com/assets/colab-badge.svg\" alt=\"Open In Colab\"/></a>"
      ]
    },
    {
      "cell_type": "code",
      "execution_count": 1,
      "metadata": {
        "id": "lnphJwclV3dP"
      },
      "outputs": [],
      "source": [
        "# Step 1: Install necessary packages\n",
        "!pip -q install transformers"
      ]
    },
    {
      "cell_type": "code",
      "source": [
        "# Step 2: Import necessary libraries\n",
        "from transformers import FlaxAutoModelForSeq2SeqLM, AutoTokenizer\n",
        "import requests\n",
        "import json\n"
      ],
      "metadata": {
        "id": "HvPML713V5R0"
      },
      "execution_count": 2,
      "outputs": []
    },
    {
      "cell_type": "code",
      "source": [
        "from huggingface_hub import notebook_login\n",
        "\n",
        "notebook_login()"
      ],
      "metadata": {
        "id": "64xC4InQWgWX"
      },
      "execution_count": null,
      "outputs": []
    },
    {
      "cell_type": "code",
      "source": [
        "# Step 3: Define the model and tokenizer\n",
        "MODEL_NAME_OR_PATH = \"flax-community/t5-recipe-generation\"\n",
        "tokenizer = AutoTokenizer.from_pretrained(MODEL_NAME_OR_PATH, use_fast=True)\n",
        "model = FlaxAutoModelForSeq2SeqLM.from_pretrained(MODEL_NAME_OR_PATH)"
      ],
      "metadata": {
        "id": "nFdyAT-2V_FD"
      },
      "execution_count": 4,
      "outputs": []
    },
    {
      "cell_type": "code",
      "source": [
        "# Step 4: Define prefix and generation parameters\n",
        "prefix = \"items: \"\n",
        "generation_kwargs = {\n",
        "    \"max_length\": 512,\n",
        "    \"min_length\": 64,\n",
        "    \"no_repeat_ngram_size\": 3,\n",
        "    \"do_sample\": True,\n",
        "    \"top_k\": 60,\n",
        "    \"top_p\": 0.95\n",
        "}"
      ],
      "metadata": {
        "id": "ceyeKSREWBr9"
      },
      "execution_count": 5,
      "outputs": []
    },
    {
      "cell_type": "code",
      "source": [
        "# Step 5: Define special tokens and their mapping\n",
        "special_tokens = tokenizer.all_special_tokens\n",
        "tokens_map = {\n",
        "    \"<sep>\": \"--\",\n",
        "    \"<section>\": \"\\n\"\n",
        "}"
      ],
      "metadata": {
        "id": "wqJs1vk8WGGM"
      },
      "execution_count": 6,
      "outputs": []
    },
    {
      "cell_type": "code",
      "source": [
        "# Step 6: Define the function to skip special tokens\n",
        "def skip_special_tokens(text, special_tokens):\n",
        "    for token in special_tokens:\n",
        "        text = text.replace(token, \"\")\n",
        "    return text"
      ],
      "metadata": {
        "id": "6MHKOqCbWJrD"
      },
      "execution_count": 7,
      "outputs": []
    },
    {
      "cell_type": "code",
      "source": [
        "# Step 7: Define the function for postprocessing the output\n",
        "def target_postprocessing(texts, special_tokens):\n",
        "    if not isinstance(texts, list):\n",
        "        texts = [texts]\n",
        "\n",
        "    new_texts = []\n",
        "    for text in texts:\n",
        "        text = skip_special_tokens(text, special_tokens)\n",
        "\n",
        "        for k, v in tokens_map.items():\n",
        "            text = text.replace(k, v)\n",
        "\n",
        "        new_texts.append(text)\n",
        "\n",
        "    return new_texts"
      ],
      "metadata": {
        "id": "sVkYlBq1WLza"
      },
      "execution_count": 8,
      "outputs": []
    },
    {
      "cell_type": "code",
      "source": [
        "COMMON_INGREDIENTS = ['salt']  # Define common ingredients here\n",
        "API_NINJAS_KEY = \"ElNmsjpzj8EURGIKbAj90Q==4iG8q4Fd43uSDQEP\"  # Replace with your api-ninjas key\n",
        "\n",
        "def estimate_calories(ingredients):\n",
        "    total_calories = 0\n",
        "    for ingredient in ingredients:\n",
        "        # Request nutritional information from the food database\n",
        "        response = requests.get('https://api.api-ninjas.com/v1/nutrition?query={}'.format(ingredient),\n",
        "                                headers={'X-Api-Key': API_NINJAS_KEY})\n",
        "        if response.status_code == requests.codes.ok:\n",
        "            data = json.loads(response.text)\n",
        "            if data:\n",
        "                for item in data:\n",
        "                    calories = item['calories']\n",
        "                    print(f\"Calories in {ingredient}: {calories}\")\n",
        "                    total_calories += calories\n",
        "            else:\n",
        "                print(f\"Couldn't find nutritional information for {ingredient}\")\n",
        "        else:\n",
        "            print(\"Error:\", response.status_code, response.text)\n",
        "    return total_calories\n",
        "\n",
        "def generation_function(texts):\n",
        "    _inputs = texts if isinstance(texts, list) else [texts]\n",
        "    # Concatenate user-provided ingredients with common ingredients\n",
        "    inputs = [prefix + ', '.join(COMMON_INGREDIENTS + inp.split(', ')) for inp in _inputs]\n",
        "    inputs = tokenizer(\n",
        "        inputs,\n",
        "        max_length=256,\n",
        "        padding=\"max_length\",\n",
        "        truncation=True,\n",
        "        return_tensors=\"jax\"\n",
        "    )\n",
        "\n",
        "    input_ids = inputs.input_ids\n",
        "    attention_mask = inputs.attention_mask\n",
        "\n",
        "    output_ids = model.generate(\n",
        "        input_ids=input_ids,\n",
        "        attention_mask=attention_mask,\n",
        "        **generation_kwargs\n",
        "    )\n",
        "    generated = output_ids.sequences\n",
        "    generated_recipe = target_postprocessing(\n",
        "        tokenizer.batch_decode(generated, skip_special_tokens=False),\n",
        "        special_tokens\n",
        "    )\n",
        "\n",
        "    return generated_recipe"
      ],
      "metadata": {
        "id": "Ab5D_uGoWOVN"
      },
      "execution_count": 9,
      "outputs": []
    },
    {
      "cell_type": "code",
      "source": [
        "def generate_recipe_json(items):\n",
        "    generated = generation_function(items)\n",
        "    recipes = []\n",
        "    for recipe in generated:\n",
        "        recipe_dict = {}\n",
        "        blocks = recipe.split('\\n\\n')\n",
        "        for block in blocks:\n",
        "            if block.startswith('title:'):\n",
        "                recipe_dict['Title'] = block.replace('title:', '').strip().capitalize()\n",
        "            elif block.startswith('ingredients:'):\n",
        "                ingredients = block.replace('ingredients:', '').split('--')\n",
        "                ingredients = [ingredient.strip() for ingredient in ingredients]\n",
        "                # calculate calories\n",
        "                total_calories = estimate_calories(ingredients)\n",
        "                recipe_dict['Ingredients'] = ingredients\n",
        "                recipe_dict['Calories Per Portion'] = total_calories\n",
        "            elif block.startswith('directions:'):\n",
        "                directions = block.replace('directions:', '').split('--')\n",
        "                directions = [direction.strip().capitalize() for direction in directions]\n",
        "                recipe_dict['Directions'] = directions\n",
        "        if recipe_dict:\n",
        "            recipes.append(recipe_dict)\n",
        "    return json.dumps(recipes, indent=4)"
      ],
      "metadata": {
        "id": "cP95AfsRWQmM"
      },
      "execution_count": 16,
      "outputs": []
    },
    {
      "cell_type": "code",
      "source": [
        "items = [\n",
        "    \"chicken thigh, garlic, bell pepper, onion, cauliflower, pasta, milk\"\n",
        "]"
      ],
      "metadata": {
        "id": "OrgIB3xMXczX"
      },
      "execution_count": 17,
      "outputs": []
    },
    {
      "cell_type": "code",
      "source": [
        "print(generation_function(items))"
      ],
      "metadata": {
        "colab": {
          "base_uri": "https://localhost:8080/",
          "height": 0
        },
        "id": "xcOF_nSqgN8J",
        "outputId": "5de7bcda-8987-478f-f98d-2a0c0e2b329f"
      },
      "execution_count": 20,
      "outputs": [
        {
          "output_type": "stream",
          "name": "stdout",
          "text": [
            "[' title: chicken, noodle or rice pasta\\n ingredients: salt to taste-- chicken thigh meat, cubed-- garlic powder to taste-- 1 bell pepper, chopped-- 1 onion, chopped-- 1 head cauliflower, cut into flowerets-- 1 pkg. bow tie pasta, cooked and drained-- 2 tbsp. evaporated skim milk\\n directions: simmer chicken thigh meat and garlic powder in water for 5 minutes.-- remove chicken.-- in same pan, cook bell pepper, onion and cauliflower.-- when chicken is done, add sauteed vegetables and pasta.-- add milk and stir.-- serve immediately with grated cheese.']\n"
          ]
        }
      ]
    },
    {
      "cell_type": "code",
      "source": [
        "recipes_json = generate_recipe_json(items)\n",
        "print(recipes_json)"
      ],
      "metadata": {
        "colab": {
          "base_uri": "https://localhost:8080/",
          "height": 0
        },
        "id": "4Di3RnTmXfGD",
        "outputId": "143052f2-6a1d-4d6b-fc88-a7a1510d03d0"
      },
      "execution_count": 18,
      "outputs": [
        {
          "output_type": "stream",
          "name": "stdout",
          "text": [
            "[]\n"
          ]
        }
      ]
    },
    {
      "cell_type": "code",
      "source": [
        "def generate_recipe_json(items):\n",
        "    generated = generation_function(items)\n",
        "    recipes = []\n",
        "    for recipe in generated:\n",
        "        recipe_dict = {}\n",
        "        blocks = recipe.split('\\n\\n')\n",
        "        if len(blocks) >= 3:  # Assuming there are at least 3 blocks (title, ingredients, directions)\n",
        "            # Title\n",
        "            recipe_dict['Title'] = blocks[0].replace('title:', '').strip().capitalize()\n",
        "            # Ingredients\n",
        "            ingredients_block = blocks[1].replace('ingredients:', '')\n",
        "            ingredients = ingredients_block.split('--')\n",
        "            ingredients = [ingredient.strip() for ingredient in ingredients]\n",
        "            # Calculate calories\n",
        "            total_calories = estimate_calories(ingredients)\n",
        "            recipe_dict['Ingredients'] = ingredients\n",
        "            recipe_dict['Calories Per Portion'] = total_calories\n",
        "            # Directions\n",
        "            directions_block = blocks[2].replace('directions:', '')\n",
        "            directions = directions_block.split('--')\n",
        "            directions = [direction.strip().capitalize() for direction in directions]\n",
        "            recipe_dict['Directions'] = directions\n",
        "            recipes.append(recipe_dict)\n",
        "    return json.dumps(recipes, indent=4)\n",
        "\n",
        "recipes_json = generate_recipe_json(items)\n",
        "print(recipes_json)\n"
      ],
      "metadata": {
        "colab": {
          "base_uri": "https://localhost:8080/",
          "height": 0
        },
        "id": "hXx-JQ_wdvEv",
        "outputId": "7992732f-383a-4200-a1dc-66ae4249ec42"
      },
      "execution_count": 19,
      "outputs": [
        {
          "output_type": "stream",
          "name": "stdout",
          "text": [
            "[]\n"
          ]
        }
      ]
    }
  ]
}